{
 "cells": [
  {
   "cell_type": "code",
   "execution_count": 1,
   "id": "1ea63d8b-9e8d-40d6-b497-9f28fe27137c",
   "metadata": {},
   "outputs": [],
   "source": [
    "from transformers import AutoTokenizer, AutoModelForSequenceClassification\n",
    "import torch"
   ]
  },
  {
   "cell_type": "code",
   "execution_count": 2,
   "id": "c78af5e9-0023-4005-9d2e-044fbddfd174",
   "metadata": {},
   "outputs": [],
   "source": [
    "# Load the model and tokenizer\n",
    "model_name = \"facebook/roberta-hate-speech-dynabench-r4-target\"\n",
    "tokenizer = AutoTokenizer.from_pretrained(model_name)\n",
    "model = AutoModelForSequenceClassification.from_pretrained(model_name)"
   ]
  },
  {
   "cell_type": "code",
   "execution_count": 3,
   "id": "a3555e4e-9afd-4988-a653-61515bb34c51",
   "metadata": {},
   "outputs": [],
   "source": [
    "# Function to classify a sentence\n",
    "def classify_sentence(sentence):\n",
    "    inputs = tokenizer(sentence, return_tensors=\"pt\", truncation=True, padding=True)\n",
    "    with torch.no_grad():\n",
    "        outputs = model(**inputs)\n",
    "    logits = outputs.logits\n",
    "    probabilities = torch.softmax(logits, dim=-1).squeeze()\n",
    "    predicted_class = torch.argmax(probabilities).item()\n",
    "    return predicted_class, probabilities\n"
   ]
  },
  {
   "cell_type": "code",
   "execution_count": 5,
   "id": "611a9bfa-c1cd-4802-b628-8874dbc5e400",
   "metadata": {},
   "outputs": [
    {
     "name": "stdout",
     "output_type": "stream",
     "text": [
      "Sentence: I like you. I love you.\n",
      "Predicted class: 0\n",
      "Probabilities: [0.9998583793640137, 0.0001415598817402497]\n",
      "\n",
      "Sentence: fuck you mother fucker\n",
      "Predicted class: 1\n",
      "Probabilities: [0.001021717325784266, 0.9989782571792603]\n",
      "\n",
      "Sentence: You are so stupid and annoying.\n",
      "Predicted class: 0\n",
      "Probabilities: [0.9995531439781189, 0.0004467867547646165]\n",
      "\n",
      "Sentence: if you are white in that state watch yourself !\n",
      "Predicted class: 0\n",
      "Probabilities: [0.9367551803588867, 0.06324481964111328]\n",
      "\n",
      "Sentence: Yep, and these are the stupid cops that are suppose to be protecting us. If they keep doing this shit something is definitely gonna go down real soon\n",
      "Predicted class: 0\n",
      "Probabilities: [0.9998579025268555, 0.00014205249317456037]\n",
      "\n"
     ]
    }
   ],
   "source": [
    "# Test the model on example sentences\n",
    "example_sentences = [\n",
    "    \"I like you. I love you.\",\n",
    "    \"fuck you mother fucker\",\n",
    "    \"You are so stupid and annoying.\",\n",
    "    \"if you are white in that state watch yourself !\",\n",
    "    \"Yep, and these are the stupid cops that are suppose to be protecting us. If they keep doing this shit something is definitely gonna go down real soon\"\n",
    "]\n",
    "\n",
    "for sentence in example_sentences:\n",
    "    predicted_class, probabilities = classify_sentence(sentence)\n",
    "    print(f\"Sentence: {sentence}\")\n",
    "    print(f\"Predicted class: {predicted_class}\")\n",
    "    print(f\"Probabilities: {probabilities.tolist()}\\n\")"
   ]
  },
  {
   "cell_type": "code",
   "execution_count": null,
   "id": "50a0817e-00aa-4c57-b0e4-f68edbe38a1d",
   "metadata": {},
   "outputs": [],
   "source": []
  }
 ],
 "metadata": {
  "kernelspec": {
   "display_name": "ml_env",
   "language": "python",
   "name": "ml_env"
  },
  "language_info": {
   "codemirror_mode": {
    "name": "ipython",
    "version": 3
   },
   "file_extension": ".py",
   "mimetype": "text/x-python",
   "name": "python",
   "nbconvert_exporter": "python",
   "pygments_lexer": "ipython3",
   "version": "3.11.11"
  }
 },
 "nbformat": 4,
 "nbformat_minor": 5
}
