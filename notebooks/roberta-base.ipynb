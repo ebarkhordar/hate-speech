{
 "cells": [
  {
   "cell_type": "code",
   "execution_count": 1,
   "id": "a70eb45f-4016-4b9f-8112-3ac6402e4001",
   "metadata": {},
   "outputs": [],
   "source": [
    "import numpy as np\n",
    "import torch\n",
    "\n",
    "from transformers import RobertaTokenizer, RobertaForSequenceClassification, Trainer, TrainingArguments\n",
    "from sklearn.metrics import accuracy_score, precision_recall_fscore_support\n",
    "from datasets import load_dataset"
   ]
  },
  {
   "cell_type": "code",
   "execution_count": 2,
   "id": "9ab9e1d7-f0bd-4036-ac88-7af89542e0c0",
   "metadata": {},
   "outputs": [
    {
     "name": "stdout",
     "output_type": "stream",
     "text": [
      "Using device: cuda\n"
     ]
    }
   ],
   "source": [
    "# Check GPU availability\n",
    "device = torch.device(\"cuda\" if torch.cuda.is_available() else \"cpu\")\n",
    "print(f\"Using device: {device}\")"
   ]
  },
  {
   "cell_type": "code",
   "execution_count": 3,
   "id": "93209a5a-8486-49ba-9d9c-fbde454c1382",
   "metadata": {},
   "outputs": [],
   "source": [
    "# Load dataset\n",
    "dataset = load_dataset(\"Hate-speech-CNERG/hatexplain\", trust_remote_code=True)"
   ]
  },
  {
   "cell_type": "code",
   "execution_count": 4,
   "id": "c2240e49-b166-4601-9e5c-c108fa1e5a28",
   "metadata": {},
   "outputs": [],
   "source": [
    "# Process the dataset\n",
    "def process_example(example):\n",
    "    # Use majority voting for the label\n",
    "    label_counts = {}\n",
    "    for label in example['annotators']['label']:\n",
    "        label_counts[label] = label_counts.get(label, 0) + 1\n",
    "    majority_label = max(label_counts, key=label_counts.get)\n",
    "    \n",
    "    # Combine tokens into a single string\n",
    "    text = \" \".join(example['post_tokens'])\n",
    "    return {\"text\": text, \"label\": majority_label}"
   ]
  },
  {
   "cell_type": "code",
   "execution_count": 5,
   "id": "883d63e1-4ad1-4e6e-9c48-2ff52f226975",
   "metadata": {},
   "outputs": [],
   "source": [
    "# Apply processing to the dataset\n",
    "processed_dataset = dataset.map(process_example, remove_columns=dataset['train'].column_names)"
   ]
  },
  {
   "cell_type": "code",
   "execution_count": 6,
   "id": "181c59e8-5702-4fe6-8870-e431b443ee74",
   "metadata": {},
   "outputs": [
    {
     "name": "stdout",
     "output_type": "stream",
     "text": [
      "{'text': 'u really think i would not have been raped by feral hindu or muslim back in india or bangladesh and a neo nazi would rape me as well just to see me cry', 'label': 2}\n"
     ]
    }
   ],
   "source": [
    "# Inspect the processed dataset\n",
    "print(processed_dataset['train'][0])"
   ]
  },
  {
   "cell_type": "code",
   "execution_count": 7,
   "id": "7d411068-693c-4df9-80b7-632df0ba4fb3",
   "metadata": {},
   "outputs": [],
   "source": [
    "# Tokenizer setup\n",
    "model_name = \"roberta-base\" \n",
    "tokenizer = RobertaTokenizer.from_pretrained(model_name)\n",
    "\n",
    "def tokenize_function(example):\n",
    "    return tokenizer(example[\"text\"], padding=\"max_length\", truncation=True)\n",
    "\n",
    "# Tokenize the dataset\n",
    "tokenized_datasets = processed_dataset.map(tokenize_function, batched=True)\n",
    "tokenized_datasets = tokenized_datasets.rename_column(\"label\", \"labels\")\n",
    "tokenized_datasets = tokenized_datasets.with_format(\"torch\")"
   ]
  },
  {
   "cell_type": "code",
   "execution_count": 8,
   "id": "829daabb-7e5b-463f-ba2a-a313a62087b0",
   "metadata": {},
   "outputs": [],
   "source": [
    "# Split datasets\n",
    "train_dataset = tokenized_datasets[\"train\"]\n",
    "test_dataset = tokenized_datasets[\"test\"]\n",
    "label_list = sorted(set(processed_dataset[\"train\"][\"label\"]))"
   ]
  },
  {
   "cell_type": "code",
   "execution_count": 9,
   "id": "e1b4a999-43af-46aa-ad1b-c7aaff69eafc",
   "metadata": {},
   "outputs": [
    {
     "data": {
      "application/vnd.jupyter.widget-view+json": {
       "model_id": "628e271b282148aaa3355ed1ff2eba0f",
       "version_major": 2,
       "version_minor": 0
      },
      "text/plain": [
       "model.safetensors:  25%|##5       | 126M/499M [00:00<?, ?B/s]"
      ]
     },
     "metadata": {},
     "output_type": "display_data"
    },
    {
     "name": "stderr",
     "output_type": "stream",
     "text": [
      "Some weights of RobertaForSequenceClassification were not initialized from the model checkpoint at roberta-base and are newly initialized: ['classifier.dense.bias', 'classifier.dense.weight', 'classifier.out_proj.bias', 'classifier.out_proj.weight']\n",
      "You should probably TRAIN this model on a down-stream task to be able to use it for predictions and inference.\n"
     ]
    }
   ],
   "source": [
    "# Model setup\n",
    "model = RobertaForSequenceClassification.from_pretrained(model_name, num_labels=len(label_list))\n",
    "model = model.to(device)"
   ]
  },
  {
   "cell_type": "code",
   "execution_count": 10,
   "id": "9d08feb7-a43b-4d40-ab44-fb6128a41c82",
   "metadata": {},
   "outputs": [],
   "source": [
    "# Define evaluation metrics\n",
    "def compute_metrics(eval_pred):\n",
    "    logits, labels = eval_pred\n",
    "\n",
    "    # If logits are NumPy arrays:\n",
    "    # predictions = np.argmax(logits, axis=-1)\n",
    "\n",
    "    # If logits might be PyTorch tensors, convert them to NumPy:\n",
    "    # (But usually, Hugging Face Trainer sends them as NumPy already)\n",
    "    if isinstance(logits, torch.Tensor):\n",
    "        predictions = torch.argmax(logits, dim=-1).cpu().numpy()\n",
    "    else:\n",
    "        predictions = np.argmax(logits, axis=-1)\n",
    "\n",
    "    # labels is already a NumPy array, so we can directly use it\n",
    "    # If needed, ensure it's NumPy:\n",
    "    # if isinstance(labels, torch.Tensor):\n",
    "    #     labels = labels.cpu().numpy()\n",
    "\n",
    "    precision, recall, f1, _ = precision_recall_fscore_support(labels, predictions, average=\"weighted\")\n",
    "    acc = accuracy_score(labels, predictions)\n",
    "\n",
    "    return {\n",
    "        \"accuracy\": acc,\n",
    "        \"f1\": f1,\n",
    "        \"precision\": precision,\n",
    "        \"recall\": recall,\n",
    "    }"
   ]
  },
  {
   "cell_type": "code",
   "execution_count": 11,
   "id": "7ac2672d-8176-40d9-bb26-8a89900bd90d",
   "metadata": {},
   "outputs": [],
   "source": [
    "# Set up TrainingArguments\n",
    "training_args = TrainingArguments(\n",
    "    output_dir=\"./results\",\n",
    "    eval_strategy=\"epoch\",  # Updated from evaluation_strategy\n",
    "    learning_rate=2e-5,\n",
    "    per_device_train_batch_size=16,\n",
    "    per_device_eval_batch_size=16,\n",
    "    num_train_epochs=3,\n",
    "    weight_decay=0.01,\n",
    "    logging_dir=\"./logs\",\n",
    "    logging_steps=10,\n",
    "    save_strategy=\"epoch\",\n",
    "    load_best_model_at_end=True,  # Optional for best model selection\n",
    "    fp16=torch.cuda.is_available(),  # Enable mixed precision if GPU is available\n",
    ")"
   ]
  },
  {
   "cell_type": "code",
   "execution_count": 12,
   "id": "b933f517-6196-4fff-9647-76d78758676d",
   "metadata": {},
   "outputs": [
    {
     "name": "stderr",
     "output_type": "stream",
     "text": [
      "/tmp/ipykernel_95425/1331462861.py:2: FutureWarning: `tokenizer` is deprecated and will be removed in version 5.0.0 for `Trainer.__init__`. Use `processing_class` instead.\n",
      "  trainer = Trainer(\n",
      "Detected kernel version 3.10.0, which is below the recommended minimum of 5.5.0; this can cause the process to hang. It is recommended to upgrade the kernel to the minimum version or higher.\n"
     ]
    }
   ],
   "source": [
    "# Set up Trainer\n",
    "trainer = Trainer(\n",
    "    model=model,\n",
    "    args=training_args,\n",
    "    train_dataset=train_dataset,\n",
    "    eval_dataset=test_dataset,\n",
    "    tokenizer=tokenizer,\n",
    "    compute_metrics=compute_metrics,\n",
    ")"
   ]
  },
  {
   "cell_type": "code",
   "execution_count": 13,
   "id": "10463d74-2e4f-4f5f-a9c9-891236f8aea5",
   "metadata": {},
   "outputs": [
    {
     "data": {
      "text/html": [
       "\n",
       "    <div>\n",
       "      \n",
       "      <progress value='2886' max='2886' style='width:300px; height:20px; vertical-align: middle;'></progress>\n",
       "      [2886/2886 07:41, Epoch 3/3]\n",
       "    </div>\n",
       "    <table border=\"1\" class=\"dataframe\">\n",
       "  <thead>\n",
       " <tr style=\"text-align: left;\">\n",
       "      <th>Epoch</th>\n",
       "      <th>Training Loss</th>\n",
       "      <th>Validation Loss</th>\n",
       "      <th>Accuracy</th>\n",
       "      <th>F1</th>\n",
       "      <th>Precision</th>\n",
       "      <th>Recall</th>\n",
       "    </tr>\n",
       "  </thead>\n",
       "  <tbody>\n",
       "    <tr>\n",
       "      <td>1</td>\n",
       "      <td>0.742800</td>\n",
       "      <td>0.747718</td>\n",
       "      <td>0.686590</td>\n",
       "      <td>0.671101</td>\n",
       "      <td>0.686026</td>\n",
       "      <td>0.686590</td>\n",
       "    </tr>\n",
       "    <tr>\n",
       "      <td>2</td>\n",
       "      <td>0.617900</td>\n",
       "      <td>0.720675</td>\n",
       "      <td>0.701143</td>\n",
       "      <td>0.694857</td>\n",
       "      <td>0.693942</td>\n",
       "      <td>0.701143</td>\n",
       "    </tr>\n",
       "    <tr>\n",
       "      <td>3</td>\n",
       "      <td>0.662000</td>\n",
       "      <td>0.740877</td>\n",
       "      <td>0.703222</td>\n",
       "      <td>0.698571</td>\n",
       "      <td>0.697312</td>\n",
       "      <td>0.703222</td>\n",
       "    </tr>\n",
       "  </tbody>\n",
       "</table><p>"
      ],
      "text/plain": [
       "<IPython.core.display.HTML object>"
      ]
     },
     "metadata": {},
     "output_type": "display_data"
    },
    {
     "data": {
      "text/plain": [
       "TrainOutput(global_step=2886, training_loss=0.6797211105759079, metrics={'train_runtime': 462.9866, 'train_samples_per_second': 99.677, 'train_steps_per_second': 6.233, 'total_flos': 1.2142421114729472e+16, 'train_loss': 0.6797211105759079, 'epoch': 3.0})"
      ]
     },
     "execution_count": 13,
     "metadata": {},
     "output_type": "execute_result"
    }
   ],
   "source": [
    "# Train the model\n",
    "trainer.train()"
   ]
  },
  {
   "cell_type": "code",
   "execution_count": 14,
   "id": "7593102c-6fdc-4cb6-9bba-1157c357d0e5",
   "metadata": {},
   "outputs": [
    {
     "data": {
      "text/html": [
       "\n",
       "    <div>\n",
       "      \n",
       "      <progress value='121' max='121' style='width:300px; height:20px; vertical-align: middle;'></progress>\n",
       "      [121/121 00:04]\n",
       "    </div>\n",
       "    "
      ],
      "text/plain": [
       "<IPython.core.display.HTML object>"
      ]
     },
     "metadata": {},
     "output_type": "display_data"
    },
    {
     "name": "stdout",
     "output_type": "stream",
     "text": [
      "Evaluation Results: {'eval_loss': 0.7206753492355347, 'eval_accuracy': 0.7011434511434511, 'eval_f1': 0.6948572403417566, 'eval_precision': 0.6939423078049375, 'eval_recall': 0.7011434511434511, 'eval_runtime': 4.8832, 'eval_samples_per_second': 394.006, 'eval_steps_per_second': 24.779, 'epoch': 3.0}\n"
     ]
    }
   ],
   "source": [
    "# Evaluate the model\n",
    "results = trainer.evaluate()\n",
    "print(\"Evaluation Results:\", results)"
   ]
  },
  {
   "cell_type": "code",
   "execution_count": 15,
   "id": "490b1a87-d960-4258-bc45-cad121cacdc5",
   "metadata": {},
   "outputs": [
    {
     "name": "stdout",
     "output_type": "stream",
     "text": [
      "Model and tokenizer saved to: ./hate-speech-roberta-base\n"
     ]
    }
   ],
   "source": [
    "# Save the model\n",
    "save_path = f\"./hate-speech-{model_name.replace('/', '-')}\"  # Replace slashes in model name with dashes for valid paths\n",
    "model.save_pretrained(save_path)\n",
    "tokenizer.save_pretrained(save_path)\n",
    "\n",
    "print(f\"Model and tokenizer saved to: {save_path}\")"
   ]
  },
  {
   "cell_type": "code",
   "execution_count": null,
   "id": "d743453e-f65a-49b2-9410-056f7b77a84c",
   "metadata": {},
   "outputs": [],
   "source": []
  }
 ],
 "metadata": {
  "kernelspec": {
   "display_name": "ml_env",
   "language": "python",
   "name": "ml_env"
  },
  "language_info": {
   "codemirror_mode": {
    "name": "ipython",
    "version": 3
   },
   "file_extension": ".py",
   "mimetype": "text/x-python",
   "name": "python",
   "nbconvert_exporter": "python",
   "pygments_lexer": "ipython3",
   "version": "3.11.11"
  }
 },
 "nbformat": 4,
 "nbformat_minor": 5
}
